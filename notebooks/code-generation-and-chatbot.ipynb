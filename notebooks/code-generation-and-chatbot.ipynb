{
 "cells": [
  {
   "cell_type": "markdown",
   "id": "f93dda3a",
   "metadata": {},
   "source": [
    "### 1.4 CODE GENERATION"
   ]
  },
  {
   "cell_type": "code",
   "execution_count": 1,
   "id": "1117db12",
   "metadata": {},
   "outputs": [],
   "source": [
    "import os\n",
    "import openai\n",
    "from dotenv import load_dotenv, find_dotenv\n",
    "_ = load_dotenv(find_dotenv())\n",
    "\n",
    "openai.api_key  = os.getenv('OPENAI_API_KEY')"
   ]
  },
  {
   "cell_type": "code",
   "execution_count": null,
   "id": "11cbaf10",
   "metadata": {},
   "outputs": [],
   "source": [
    "def get_completion(prompt, model=\"gpt-3.5-turbo\"):\n",
    "    messages = [{\"role\": \"user\", \"content\": prompt}]\n",
    "    response = openai.ChatCompletion.create(\n",
    "        model=model,\n",
    "        messages=messages,\n",
    "        temperature=0, \n",
    "    )\n",
    "    return response.choices[0].message[\"content\"]"
   ]
  },
  {
   "cell_type": "code",
   "execution_count": 14,
   "id": "49f5ad50",
   "metadata": {
    "height": 166
   },
   "outputs": [
    {
     "name": "stdout",
     "output_type": "stream",
     "text": [
      "SELECT StudentId, StudentName \n",
      "FROM students \n",
      "WHERE DepartmentId = (SELECT DepartmentId FROM departments WHERE DepartmentName = 'Computer Science')\n"
     ]
    }
   ],
   "source": [
    "prompt = f\"\"\"\n",
    "Table departments, \\\n",
    "columns = [DepartmentId, DepartmentName]\\nTable students,\\\n",
    "columns = [DepartmentId, StudentId, StudentName]\\\n",
    "Create a MySQL query for all students in the Computer Science Department\n",
    "\"\"\"\n",
    "\n",
    "response = get_completion(prompt)\n",
    "print(response)"
   ]
  },
  {
   "cell_type": "markdown",
   "id": "a7029840",
   "metadata": {},
   "source": [
    "##### Use “leading words” to nudge the model toward a particular pattern"
   ]
  },
  {
   "cell_type": "code",
   "execution_count": 18,
   "id": "b3a04de5",
   "metadata": {
    "height": 132
   },
   "outputs": [
    {
     "name": "stdout",
     "output_type": "stream",
     "text": [
      "Here's a simple Python function that does what you're asking for:\n",
      "\n",
      "```python\n",
      "def add_and_abs():\n",
      "    num1 = float(input(\"Enter the first number: \"))\n",
      "    num2 = float(input(\"Enter the second number: \"))\n",
      "    result = abs(num1 + num2)\n",
      "    print(\"The absolute value of the sum is:\", result)\n",
      "```\n",
      "\n",
      "To use this function, simply call it like this:\n",
      "\n",
      "```python\n",
      "add_and_abs()\n",
      "```\n",
      "\n",
      "This will prompt you to enter two numbers, add them together, and then print the absolute value of the result.\n"
     ]
    }
   ],
   "source": [
    "prompt = f\"\"\"\n",
    "Write a simple python function that\n",
    "1. Ask me for two numbers and add them\n",
    "2. Get the absolute value of the number we get from the addition\n",
    "\"\"\"\n",
    "response = get_completion(prompt)\n",
    "print(response)"
   ]
  },
  {
   "cell_type": "code",
   "execution_count": 20,
   "id": "fb5b469e",
   "metadata": {
    "height": 149
   },
   "outputs": [
    {
     "name": "stdout",
     "output_type": "stream",
     "text": [
      "def add_and_abs():\n",
      "    num1 = float(input(\"Enter the first number: \"))\n",
      "    num2 = float(input(\"Enter the second number: \"))\n",
      "    result = abs(num1 + num2)\n",
      "    print(\"The absolute value of the sum is:\", result)\n",
      "\n",
      "add_and_abs()\n"
     ]
    }
   ],
   "source": [
    "prompt = f\"\"\"\n",
    "Write a simple python function that\n",
    "1. Ask me for two numbers and add them\n",
    "2. Get the absolute value of the number we get from the addition\n",
    "import\n",
    "\"\"\"\n",
    "response = get_completion(prompt)\n",
    "print(response)"
   ]
  },
  {
   "cell_type": "markdown",
   "id": "7abf08f0",
   "metadata": {},
   "source": [
    "**HINT :** \n",
    "\n",
    "We added \"import\" as the lead word, thus giving the model a hint to write Python code. Likewise, \"SELECT\" is a good clue so that the model can write a SQL."
   ]
  },
  {
   "cell_type": "markdown",
   "id": "65f2a47e",
   "metadata": {},
   "source": [
    "## 2. Conversations with ChatGPT"
   ]
  },
  {
   "cell_type": "code",
   "execution_count": 2,
   "id": "d9527e1e",
   "metadata": {},
   "outputs": [],
   "source": [
    "def get_completion_from_messages(messages, model=\"gpt-3.5-turbo\", temperature=0):\n",
    "    response = openai.ChatCompletion.create(\n",
    "        model=model,\n",
    "        messages=messages,\n",
    "        temperature=temperature,\n",
    "    )\n",
    "    return response.choices[0].message[\"content\"]"
   ]
  },
  {
   "cell_type": "markdown",
   "id": "f3cff1fc",
   "metadata": {},
   "source": [
    "You can instruct the LLM system on how to behave, its purpose, and identity. You do this by specifying the roles inside the message parameter. One of system, user, or assistant.\n",
    "\n",
    "- **Assistant role**: An assistant is a program or application that helps the user to complete a task or provides information. In prompting, an assistant may ask the user questions or provide suggestions to help the user provide the necessary information. For example, a chatbot may act as an assistant in a customer service scenario, asking the user questions to help resolve their issue.\n",
    "\n",
    "\n",
    "- **User role**: The user is the person who is being prompted for information. They are responsible for providing the necessary information to complete the task or request. In prompting, the user may be asked to provide information such as their name, address, or preferences.\n",
    "\n",
    "\n",
    "- **System role**: The system is the entity that is responsible for processing the information provided by the user. In prompting, the system may use the information provided by the user to complete a task or provide a service. For example, a system may use the user's address to provide directions to a location or use their preferences to recommend products or services."
   ]
  },
  {
   "cell_type": "code",
   "execution_count": 3,
   "id": "03c8c200",
   "metadata": {},
   "outputs": [],
   "source": [
    "messages=[\n",
    "    {\"role\": \"system\", \"content\": \"You are an AI research assistant. You use a tone that is technical and scientific.\"},\n",
    "    {\"role\": \"user\", \"content\": \"Hey, Can you tell me about dark matter?\"},\n",
    "    {\"role\": \"assistant\", \"content\": \"Greeting! I am an AI research assistant. How can I help you today?\"},\n",
    "    {\"role\": \"user\", \"content\": \"Thank you\"}\n",
    "]"
   ]
  },
  {
   "cell_type": "code",
   "execution_count": 18,
   "id": "28cd6d70",
   "metadata": {
    "height": 47,
    "scrolled": true
   },
   "outputs": [
    {
     "name": "stdout",
     "output_type": "stream",
     "text": [
      "Certainly! Dark matter is a hypothetical form of matter that is thought to make up approximately 85% of the matter in the universe. It is called \"dark\" because it does not interact with light or other forms of electromagnetic radiation, making it invisible to telescopes and other instruments that detect light. \n",
      "\n",
      "The existence of dark matter was first proposed in the 1930s by Swiss astronomer Fritz Zwicky, who noticed that the observed mass of galaxy clusters was not sufficient to account for the gravitational forces that held them together. Since then, numerous observations of the rotation of galaxies and the large-scale structure of the universe have provided further evidence for the existence of dark matter.\n",
      "\n",
      "Despite its name, dark matter is not completely mysterious. Scientists have proposed several possible candidates for dark matter particles, including weakly interacting massive particles (WIMPs) and axions. However, these particles have not yet been directly detected, and the nature of dark matter remains one of the biggest mysteries in modern physics.\n"
     ]
    }
   ],
   "source": [
    "response = get_completion_from_messages(messages)\n",
    "print(response)"
   ]
  },
  {
   "cell_type": "markdown",
   "id": "92a7c5ea",
   "metadata": {},
   "source": [
    "We will change the temperature parameter to see the change it will create."
   ]
  },
  {
   "cell_type": "code",
   "execution_count": 19,
   "id": "da45ea0f",
   "metadata": {
    "height": 47,
    "tags": []
   },
   "outputs": [
    {
     "name": "stdout",
     "output_type": "stream",
     "text": [
      "Certainly! Dark matter is a hypothetical form of matter that is thought to make up approximately 85% of the total matter content of the universe. It cannot be directly observed, as it does not interact with light or other forms of electromagnetic radiation, hence the name \"dark\".\n",
      "\n",
      "Dark matter is inferred to exist because of its gravitational effects on visible matter such as stars and galaxies. The acceleration of stars within galaxies, for example, is much greater than can be accounted for by the gravitational pull of their visible mass, suggesting the presence of additional, unobservable mass.\n",
      "\n",
      "The exact nature of dark matter is still unknown, and there are various theoretical models that attempt to explain it. Despite many efforts to detect or directly observe dark matter, it remains an elusive mystery in modern cosmology.\n"
     ]
    }
   ],
   "source": [
    "response = get_completion_from_messages(messages, temperature=1)\n",
    "print(response)"
   ]
  },
  {
   "cell_type": "markdown",
   "id": "b486a176",
   "metadata": {},
   "source": [
    "**NOTE:**\n",
    "\n",
    "The temperature parameter in Large Language Models (LLMs) controls the level of randomness and creativity in generated text, with a higher value resulting in more imaginative responses and a lower value producing more predictable outputs, and can be adjusted to enhance the user experience in chatbots. \n",
    "\n",
    "The higher the temperature, the more random (and often creative) the output. However, “truthfulness” may decrease. So it may be a better idea to set the temperature parameter to 0 when we are concerned with exact results."
   ]
  }
 ],
 "metadata": {
  "kernelspec": {
   "display_name": "Python 3 (ipykernel)",
   "language": "python",
   "name": "python3"
  },
  "language_info": {
   "codemirror_mode": {
    "name": "ipython",
    "version": 3
   },
   "file_extension": ".py",
   "mimetype": "text/x-python",
   "name": "python",
   "nbconvert_exporter": "python",
   "pygments_lexer": "ipython3",
   "version": "3.10.9"
  }
 },
 "nbformat": 4,
 "nbformat_minor": 5
}
