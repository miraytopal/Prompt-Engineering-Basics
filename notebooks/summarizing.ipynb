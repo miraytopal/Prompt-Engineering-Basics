{
 "cells": [
  {
   "cell_type": "markdown",
   "id": "f97f66be",
   "metadata": {},
   "source": [
    "### 1.1 SUMMARIZING"
   ]
  },
  {
   "cell_type": "markdown",
   "id": "cb313a72",
   "metadata": {},
   "source": [
    "\n",
    "Summarization in general refers to the process of condensing a longer text or conversation into a shorter version that captures the main points and key ideas. This can be useful for quickly understanding the content of a longer conversation or for creating a brief summary to share with others."
   ]
  },
  {
   "cell_type": "code",
   "execution_count": 2,
   "id": "6d25bd24",
   "metadata": {},
   "outputs": [],
   "source": [
    "import openai\n",
    "import os\n",
    "\n",
    "from dotenv import load_dotenv, find_dotenv\n",
    "_ = load_dotenv(find_dotenv())\n",
    "\n",
    "openai.api_key  = os.getenv('OPENAI_API_KEY')"
   ]
  },
  {
   "cell_type": "code",
   "execution_count": 3,
   "id": "359f2ef7",
   "metadata": {},
   "outputs": [],
   "source": [
    "def get_completion(prompt, model=\"gpt-3.5-turbo\"): \n",
    "    messages = [{\"role\": \"user\", \"content\": prompt}]\n",
    "    response = openai.ChatCompletion.create(\n",
    "        model=model,\n",
    "        messages=messages,\n",
    "        temperature=0,\n",
    "    )\n",
    "    return response.choices[0].message[\"content\"]"
   ]
  },
  {
   "cell_type": "code",
   "execution_count": 4,
   "id": "1709001b",
   "metadata": {},
   "outputs": [],
   "source": [
    "email_text = f\"\"\"\n",
    "Subject: Request for Purchase of Coffee Machine\n",
    "\n",
    "Dear Mr. Smith,\n",
    "\n",
    "I hope this email finds you well. I am writing to express my interest in purchasing a coffee machine from your store.\\\n",
    "I have been searching for a reliable and efficient coffee machine for my office, and I believe that your store has \\\n",
    "the perfect product that meets my requirements.\n",
    "\n",
    "I am interested in the XYZ model that I saw on your website. I would like to know more about its features, specifications,\\\n",
    "and pricing. Could you please provide me with a detailed description of the product and its functionalities? \\\n",
    "Also, I would appreciate it if you could let me know the price of the machine and any ongoing promotions or discounts that I can avail of.\n",
    "\n",
    "I am looking to purchase the coffee machine as soon as possible, so I would appreciate it if you could respond to my email at the earliest.\\\n",
    "If possible, could you also provide me with the delivery timeline and any additional charges that I may incur for shipping and handling?\n",
    "\n",
    "Thank you for your time and consideration. I look forward to hearing back from you soon.\n",
    "\n",
    "Best regards,\n",
    "\n",
    "John Doe\n",
    "\"\"\""
   ]
  },
  {
   "cell_type": "code",
   "execution_count": 5,
   "id": "22208220",
   "metadata": {
    "height": 183
   },
   "outputs": [
    {
     "name": "stdout",
     "output_type": "stream",
     "text": [
      "John Doe requests information on the XYZ coffee machine's features, specifications, pricing, and promotions. He also asks for delivery timeline and additional charges.\n"
     ]
    }
   ],
   "source": [
    "prompt = f\"\"\"\n",
    "\n",
    "Summarize the email text, delimited by triple \n",
    "backticks, in at most 30 words. \n",
    "\n",
    "Review: <{email_text}>\n",
    "\"\"\"\n",
    "\n",
    "response = get_completion(prompt)\n",
    "print(response)"
   ]
  },
  {
   "cell_type": "markdown",
   "id": "47553287",
   "metadata": {},
   "source": [
    "We summarized a customer email without specifying a purpose. We limited our output to 30 words. You can use this trick to limit the output size."
   ]
  },
  {
   "cell_type": "code",
   "execution_count": 15,
   "id": "b78e13d9",
   "metadata": {
    "height": 217
   },
   "outputs": [
    {
     "name": "stdout",
     "output_type": "stream",
     "text": [
      "John Doe is interested in purchasing a coffee machine from our store for his office. He is specifically interested in the XYZ model and requests information on its features, specifications, pricing, delivery timeline, and any ongoing promotions or discounts.\n"
     ]
    }
   ],
   "source": [
    "prompt = f\"\"\"\n",
    "Your task is to create a summary of the customer's mail to send to our sales team.\n",
    "\n",
    "Summarize the review below, \\\n",
    "focus on all aspects of the product and its sale \\\n",
    "maximum of 30 words.\n",
    "\n",
    "Review: ```{email_text}```\n",
    "\"\"\"\n",
    "\n",
    "response = get_completion(prompt)\n",
    "print(response)"
   ]
  },
  {
   "cell_type": "markdown",
   "id": "44396da4",
   "metadata": {},
   "source": [
    "We slightly changed our prompt to make our output specific. Notice the difference in the output"
   ]
  },
  {
   "cell_type": "code",
   "execution_count": 32,
   "id": "322417d1",
   "metadata": {
    "height": 336
   },
   "outputs": [
    {
     "name": "stdout",
     "output_type": "stream",
     "text": [
      "{\n",
      "  \"customer name\": \"John Doe\",\n",
      "  \"salesman name\": \"Mr. Smith\",\n",
      "  \"product name\": \"coffee machine\",\n",
      "  \"product model\": \"XYZ\",\n",
      "  \"shipping time\": \"None\",\n",
      "  \"keywords\": [\"purchase\", \"coffee machine\", \"pricing\"]\n",
      "}\n"
     ]
    }
   ],
   "source": [
    "prompt = f\"\"\"\n",
    "If the text contains the information requested below, \\\n",
    "take them and write them in JSON format.\n",
    "customer name:\n",
    "salesman name:\n",
    "product name:\n",
    "product model:\n",
    "shipping time:\n",
    "keywords: \n",
    "\n",
    "Keywords are related to sales and should be no more than 3.\n",
    "If the text does not contain the requested information\\\n",
    "then simply write \\'None\\'\n",
    "\n",
    "```{email_text}```\n",
    "\"\"\"\n",
    "\n",
    "json_response = get_completion(prompt)\n",
    "print(json_response)"
   ]
  },
  {
   "cell_type": "markdown",
   "id": "afa05760",
   "metadata": {},
   "source": [
    "We took some information from the e-mail and became the information the fomat what we want. It can be so useful."
   ]
  },
  {
   "cell_type": "code",
   "execution_count": 33,
   "id": "95e8ac2e",
   "metadata": {
    "height": 132
   },
   "outputs": [
    {
     "name": "stdout",
     "output_type": "stream",
     "text": [
      "<table>\n",
      "  <caption>Customer Information</caption>\n",
      "  <thead>\n",
      "    <tr>\n",
      "      <th>Customer Name</th>\n",
      "      <th>Salesman Name</th>\n",
      "      <th>Product Name</th>\n",
      "      <th>Product Model</th>\n",
      "      <th>Shipping Time</th>\n",
      "      <th>Keywords</th>\n",
      "    </tr>\n",
      "  </thead>\n",
      "  <tbody>\n",
      "    <tr>\n",
      "      <td>John Doe</td>\n",
      "      <td>Mr. Smith</td>\n",
      "      <td>coffee machine</td>\n",
      "      <td>XYZ</td>\n",
      "      <td>None</td>\n",
      "      <td>purchase, coffee machine, pricing</td>\n",
      "    </tr>\n",
      "  </tbody>\n",
      "</table>\n"
     ]
    }
   ],
   "source": [
    "prompt = f\"\"\"\n",
    "Your task is to convert the JSON to HTML \\\n",
    "table with column headers and title: <{json_response}>\n",
    "```\n",
    "\"\"\"\n",
    "response = get_completion(prompt)\n",
    "print(response)"
   ]
  },
  {
   "cell_type": "code",
   "execution_count": 34,
   "id": "a9f48ed3",
   "metadata": {
    "height": 47
   },
   "outputs": [
    {
     "data": {
      "text/html": [
       "<table>\n",
       "  <caption>Customer Information</caption>\n",
       "  <thead>\n",
       "    <tr>\n",
       "      <th>Customer Name</th>\n",
       "      <th>Salesman Name</th>\n",
       "      <th>Product Name</th>\n",
       "      <th>Product Model</th>\n",
       "      <th>Shipping Time</th>\n",
       "      <th>Keywords</th>\n",
       "    </tr>\n",
       "  </thead>\n",
       "  <tbody>\n",
       "    <tr>\n",
       "      <td>John Doe</td>\n",
       "      <td>Mr. Smith</td>\n",
       "      <td>coffee machine</td>\n",
       "      <td>XYZ</td>\n",
       "      <td>None</td>\n",
       "      <td>purchase, coffee machine, pricing</td>\n",
       "    </tr>\n",
       "  </tbody>\n",
       "</table>"
      ],
      "text/plain": [
       "<IPython.core.display.HTML object>"
      ]
     },
     "metadata": {},
     "output_type": "display_data"
    }
   ],
   "source": [
    "from IPython.display import display, HTML, JSON\n",
    "display(HTML(response))"
   ]
  },
  {
   "cell_type": "markdown",
   "id": "35b623e1",
   "metadata": {},
   "source": [
    "Finally we converted our format from JSON to HTML so we could put the information in a table. We can do this for each e-mail and easily get some information about the e-mail contents. "
   ]
  }
 ],
 "metadata": {
  "kernelspec": {
   "display_name": "Python 3 (ipykernel)",
   "language": "python",
   "name": "python3"
  },
  "language_info": {
   "codemirror_mode": {
    "name": "ipython",
    "version": 3
   },
   "file_extension": ".py",
   "mimetype": "text/x-python",
   "name": "python",
   "nbconvert_exporter": "python",
   "pygments_lexer": "ipython3",
   "version": "3.10.9"
  }
 },
 "nbformat": 4,
 "nbformat_minor": 5
}
