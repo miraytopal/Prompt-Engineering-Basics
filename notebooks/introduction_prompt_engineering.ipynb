{
 "cells": [
  {
   "cell_type": "markdown",
   "id": "165033f3",
   "metadata": {},
   "source": [
    "## Guidelines for Prompting"
   ]
  },
  {
   "cell_type": "markdown",
   "id": "9036a1fc",
   "metadata": {},
   "source": [
    "#### Importing relevant libraries"
   ]
  },
  {
   "cell_type": "code",
   "execution_count": 2,
   "id": "dbe20e61",
   "metadata": {},
   "outputs": [],
   "source": [
    "import openai\n",
    "import os\n",
    "\n",
    "from dotenv import load_dotenv, find_dotenv\n",
    "_ = load_dotenv(find_dotenv())\n",
    "\n",
    "openai.api_key  = os.getenv('OPENAI_API_KEY')"
   ]
  },
  {
   "cell_type": "code",
   "execution_count": 3,
   "id": "eb12f3bd",
   "metadata": {},
   "outputs": [],
   "source": [
    "def get_completion(prompt, model=\"gpt-3.5-turbo\"): \n",
    "    messages = [{\"role\": \"user\", \"content\": prompt}]\n",
    "    response = openai.ChatCompletion.create(\n",
    "        model=model,\n",
    "        messages=messages,\n",
    "        temperature=0,\n",
    "    )\n",
    "    return response.choices[0].message[\"content\"]"
   ]
  },
  {
   "cell_type": "markdown",
   "id": "a919989f",
   "metadata": {},
   "source": [
    "### 1. Basic Prompts"
   ]
  },
  {
   "cell_type": "markdown",
   "id": "d50e5a41",
   "metadata": {},
   "source": [
    "You can write effective prompts for simple tasks using commands such as Summarize, Write, Classify, Translate, etc., but when you need more specific results or want to make sure our prompt serves your purposes, you should improve your prompt quality. \n",
    "\n",
    "We'll see some basic prompt examples in this notebook, detail these, and more in the following notebooks."
   ]
  },
  {
   "cell_type": "markdown",
   "id": "a9b531fa",
   "metadata": {},
   "source": [
    "##### Complete your sentences "
   ]
  },
  {
   "cell_type": "code",
   "execution_count": 5,
   "id": "dd2c8a3a",
   "metadata": {
    "height": 81
   },
   "outputs": [
    {
     "name": "stdout",
     "output_type": "stream",
     "text": [
      "my best to accomplish my goals and make progress towards my dreams.\n"
     ]
    }
   ],
   "source": [
    "prompt = f\"\"\" Complete this sentence:\n",
    "```Today I will do```\"\"\"\n",
    "response = get_completion(prompt)\n",
    "print(response)"
   ]
  },
  {
   "cell_type": "markdown",
   "id": "b19ac192",
   "metadata": {},
   "source": [
    "##### Summarize your text"
   ]
  },
  {
   "cell_type": "code",
   "execution_count": 11,
   "id": "c9b417ed",
   "metadata": {
    "height": 268
   },
   "outputs": [
    {
     "name": "stdout",
     "output_type": "stream",
     "text": [
      "ChatGPT is an AI-powered chatbot that was developed through data gathering, algorithm development, and extensive user testing to create an intelligent, responsive, and user-friendly chatbot.\n"
     ]
    }
   ],
   "source": [
    "text = f\"\"\"\n",
    "ChatGPT is an AI-powered chatbot developed to provide an interactive and engaging experience. \\\n",
    "The development process involved gathering data from various sources to train the chatbot to understand and \\\n",
    "respond to user queries. Algorithms were developed to enable ChatGPT to analyze user queries and \\\n",
    "provide relevant responses. The team conducted extensive user testing and gathered feedback to ensure \\\n",
    "the chatbot met user needs and expectations. The team also focused on designing an intuitive interface \\\n",
    "for users to interact with the chatbot. Overall, the development process was challenging but rewarding, \\\n",
    "resulting in an intelligent, responsive, and user-friendly chatbot.\n",
    "\"\"\"\n",
    "prompt = f\"\"\"\n",
    "Summarize the text into a sentence.\n",
    "<{text}>\n",
    "\"\"\"\n",
    "response = get_completion(prompt)\n",
    "print(response)"
   ]
  },
  {
   "cell_type": "markdown",
   "id": "632ce3f6",
   "metadata": {},
   "source": [
    "##### Ask the model to produce an output suitable for the desired conditions"
   ]
  },
  {
   "cell_type": "code",
   "execution_count": 12,
   "id": "e920bf4f",
   "metadata": {
    "height": 370
   },
   "outputs": [
    {
     "name": "stdout",
     "output_type": "stream",
     "text": [
      "Steps for writing a book:\n",
      "1 - Brainstorm ideas and create an outline for your book.\n",
      "2 - Set a writing schedule and aim to write a certain number of words or pages each day.\n",
      "3 - Focus on developing your characters, plot, and setting as you write.\n",
      "4 - Revise and edit your work multiple times.\n",
      "5 - Seek feedback from beta readers or a writing group.\n",
      "6 - Consider hiring a professional editor to help polish your manuscript.\n",
      "7 - Research publishing options and decide whether to pursue traditional publishing or self-publishing.\n"
     ]
    }
   ],
   "source": [
    "text = f\"\"\"\n",
    "To write a book, start by brainstorming ideas and creating an outline. \n",
    "Then, set a writing schedule and stick to it, aiming to write a certain number of words or pages each day. \n",
    "As you write, focus on developing your characters, plot, and setting, and be sure to revise and edit your work multiple times. \n",
    "Seek feedback from beta readers or a writing group, and consider hiring a professional editor to help polish your manuscript. \n",
    "Finally, research publishing options and decide whether to pursue traditional publishing or self-publishing.\n",
    "\"\"\"\n",
    "prompt = f\"\"\"\n",
    "Text delimited by triple quotes. \n",
    "If it contains a sequence of instructions, \\\n",
    "re-write those instructions in the following format:\n",
    "1 - ...\n",
    "2 - …\n",
    "…\n",
    "N - …\n",
    "\n",
    "<{text}>\n",
    "\"\"\"\n",
    "response = get_completion(prompt)\n",
    "print(f\"Steps for writing a book:\\n{response}\")"
   ]
  },
  {
   "cell_type": "markdown",
   "id": "608475f2",
   "metadata": {},
   "source": [
    "##### Ask for a structured output\n",
    "\n",
    "Html, JSON etc."
   ]
  },
  {
   "cell_type": "code",
   "execution_count": 4,
   "id": "6ddd6ec6",
   "metadata": {
    "height": 234
   },
   "outputs": [
    {
     "name": "stdout",
     "output_type": "stream",
     "text": [
      "<!DOCTYPE html>\n",
      "<html>\n",
      "<head>\n",
      "\t<title>Sample text</title>\n",
      "</head>\n",
      "<body>\n",
      "\t<p>Hello, world!</p>\n",
      "\t<p>This is a sample text file.</p>\n",
      "</body>\n",
      "</html>\n"
     ]
    }
   ],
   "source": [
    "text = f\"\"\"\n",
    "title: Sample text\n",
    "Hello, world!\n",
    "This is a sample text file.\n",
    "\"\"\"\n",
    "\n",
    "prompt = f\"\"\"\n",
    "Your task is to convert the text to HTML\\\n",
    "<{text}>\n",
    "```\n",
    "\"\"\"\n",
    "response = get_completion(prompt)\n",
    "print(response)"
   ]
  },
  {
   "cell_type": "code",
   "execution_count": 6,
   "id": "c1ee1415",
   "metadata": {
    "height": 149
   },
   "outputs": [
    {
     "name": "stdout",
     "output_type": "stream",
     "text": [
      "{\n",
      "  \"movie_title\": \"The Lost City of Zorg\",\n",
      "  \"subject\": \"Exploration of an alien planet\",\n",
      "  \"directors\": [\"J.J. Abrams\", \"Ridley Scott\"],\n",
      "  \"genre\": \"Sci-Fi\"\n",
      "}\n",
      "\n",
      "{\n",
      "  \"movie_title\": \"The Last Heist\",\n",
      "  \"subject\": \"A group of bank robbers attempt one final heist\",\n",
      "  \"directors\": [\"Quentin Tarantino\", \"Martin Scorsese\"],\n",
      "  \"genre\": \"Crime\"\n",
      "}\n",
      "\n",
      "{\n",
      "  \"movie_title\": \"The Forgotten Kingdom\",\n",
      "  \"subject\": \"A young prince must reclaim his throne from an evil sorcerer\",\n",
      "  \"directors\": [\"Peter Jackson\", \"Guillermo del Toro\"],\n",
      "  \"genre\": \"Fantasy\"\n",
      "}\n"
     ]
    }
   ],
   "source": [
    "prompt = f\"\"\"\n",
    "Generate three made-up movie titles\\\n",
    "subjects, directors and genre.\n",
    "Provide them in JSON format with the keys:\n",
    "movie_title, subject, directors, genre.\n",
    "\"\"\"\n",
    "response = get_completion(prompt)\n",
    "print(response)"
   ]
  }
 ],
 "metadata": {
  "kernelspec": {
   "display_name": "Python 3 (ipykernel)",
   "language": "python",
   "name": "python3"
  },
  "language_info": {
   "codemirror_mode": {
    "name": "ipython",
    "version": 3
   },
   "file_extension": ".py",
   "mimetype": "text/x-python",
   "name": "python",
   "nbconvert_exporter": "python",
   "pygments_lexer": "ipython3",
   "version": "3.10.9"
  }
 },
 "nbformat": 4,
 "nbformat_minor": 5
}
