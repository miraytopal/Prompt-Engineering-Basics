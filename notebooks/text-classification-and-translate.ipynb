{
 "cells": [
  {
   "cell_type": "markdown",
   "id": "ed870add",
   "metadata": {},
   "source": [
    "### 1.2 TEXT CLASSIFICATION"
   ]
  },
  {
   "cell_type": "markdown",
   "id": "04ab5bee",
   "metadata": {},
   "source": [
    "Text classification refers to the process of categorizing text data into predefined classes or categories based on their content and context. Text classification is essential for building effective prompt models that can understand and respond to user inputs in a meaningful way."
   ]
  },
  {
   "cell_type": "code",
   "execution_count": 3,
   "id": "8d1584e0",
   "metadata": {},
   "outputs": [],
   "source": [
    "import openai\n",
    "import os\n",
    "\n",
    "from dotenv import load_dotenv, find_dotenv\n",
    "_ = load_dotenv(find_dotenv()) # read local .env file\n",
    "\n",
    "openai.api_key  = os.getenv('OPENAI_API_KEY')"
   ]
  },
  {
   "cell_type": "code",
   "execution_count": 4,
   "id": "6a85ee0f",
   "metadata": {
    "height": 149,
    "tags": []
   },
   "outputs": [],
   "source": [
    "def get_completion(prompt, model=\"gpt-3.5-turbo\", temperature=0): \n",
    "    messages = [{\"role\": \"user\", \"content\": prompt}]\n",
    "    response = openai.ChatCompletion.create(\n",
    "        model=model,\n",
    "        messages=messages,\n",
    "        temperature=temperature, \n",
    "    )\n",
    "    return response.choices[0].message[\"content\"]"
   ]
  },
  {
   "cell_type": "code",
   "execution_count": null,
   "id": "3fc5f8bb",
   "metadata": {},
   "outputs": [],
   "source": [
    "product_review = f\"\"\"\n",
    "I recently purchased a pair of shoes from this brand and I am absolutely thrilled with my purchase! \\\n",
    "The shoes are not only stylish and trendy, but they are also incredibly comfortable. \\\n",
    "I have worn them for hours on end and my feet have never felt better. \\\n",
    "The quality of the materials used is top-notch and I can tell that these shoes will last me a long time.\\\n",
    "The customer service was also fantastic, with the staff being friendly and helpful throughout the entire purchasing process.\\\n",
    "I would highly recommend this brand to anyone looking for high-quality, comfortable and stylish shoes.\n",
    "\n",
    "\"\"\""
   ]
  },
  {
   "cell_type": "markdown",
   "id": "148d2f99",
   "metadata": {},
   "source": [
    "#### Sentiment analysis"
   ]
  },
  {
   "cell_type": "code",
   "execution_count": 13,
   "id": "d27b1c31",
   "metadata": {
    "height": 183
   },
   "outputs": [
    {
     "name": "stdout",
     "output_type": "stream",
     "text": [
      "positive\n"
     ]
    }
   ],
   "source": [
    "prompt = f\"\"\"\n",
    "What is the sentiment of the following product review, \n",
    "which is delimited with triple backticks?\n",
    "\n",
    "Give a one-word answer, either 'positive' or 'negative'.\n",
    "\n",
    "Review text: '''{product_review}'''\n",
    "\"\"\"\n",
    "response = get_completion(prompt)\n",
    "print(response)"
   ]
  },
  {
   "cell_type": "markdown",
   "id": "e323fecf",
   "metadata": {},
   "source": [
    "#### Indentify types of emotions"
   ]
  },
  {
   "cell_type": "code",
   "execution_count": 14,
   "id": "8aa7934b",
   "metadata": {
    "height": 183
   },
   "outputs": [
    {
     "name": "stdout",
     "output_type": "stream",
     "text": [
      "thrilled, comfortable, satisfied, impressed, recommend\n"
     ]
    }
   ],
   "source": [
    "prompt = f\"\"\"\n",
    "Identify a list of emotions that the writer of the \\\n",
    "following review is expressing. Include no more than \\\n",
    "five items in the list. Format your answer as a list of \\\n",
    "lower-case words separated by commas.\n",
    "\n",
    "Review text: '''{product_review}'''\n",
    "\"\"\"\n",
    "response = get_completion(prompt)\n",
    "print(response)"
   ]
  },
  {
   "cell_type": "code",
   "execution_count": 15,
   "id": "dba1a538",
   "metadata": {
    "height": 166,
    "scrolled": true
   },
   "outputs": [
    {
     "name": "stdout",
     "output_type": "stream",
     "text": [
      "No\n"
     ]
    }
   ],
   "source": [
    "prompt = f\"\"\"\n",
    "Is the writer of the following review expressing anger?\\\n",
    "The review is delimited with triple backticks. \\\n",
    "Give your answer as either yes or no.\n",
    "\n",
    "Review text: '''{product_review}'''\n",
    "\"\"\"\n",
    "response = get_completion(prompt)\n",
    "print(response)"
   ]
  },
  {
   "cell_type": "markdown",
   "id": "0494e81d",
   "metadata": {},
   "source": [
    "### 1.3 TRANSLATE"
   ]
  },
  {
   "cell_type": "code",
   "execution_count": 3,
   "id": "5e54d676",
   "metadata": {
    "height": 183
   },
   "outputs": [
    {
     "name": "stdout",
     "output_type": "stream",
     "text": [
      "\"Today the weather is quite nice, there is not even a single cloud in the sky.\"\n"
     ]
    }
   ],
   "source": [
    "text = f\"\"\"\n",
    "Bugün hava oldukça güzel, gökyüzünde tek bir bulut bile yok.\n",
    "\"\"\"\n",
    "\n",
    "prompt = f\"\"\"\n",
    "Translate the Turkish text to English: \\ \n",
    "```{text}```\n",
    "\"\"\"\n",
    "response = get_completion(prompt)\n",
    "print(response)"
   ]
  },
  {
   "cell_type": "code",
   "execution_count": 7,
   "id": "7300ed9b",
   "metadata": {
    "height": 115,
    "tags": []
   },
   "outputs": [
    {
     "name": "stdout",
     "output_type": "stream",
     "text": [
      "Spanish.\n"
     ]
    }
   ],
   "source": [
    "prompt = f\"\"\"\n",
    "In which language is the text below:\n",
    "```Hoy el clima está bastante bueno, no hay ni una sola nube en el cielo.```\n",
    "\"\"\"\n",
    "response = get_completion(prompt)\n",
    "print(response)"
   ]
  },
  {
   "cell_type": "markdown",
   "id": "7e8123f6",
   "metadata": {},
   "source": [
    "You can write your sentences in a formal and informal style."
   ]
  },
  {
   "cell_type": "code",
   "execution_count": 8,
   "id": "41256443",
   "metadata": {
    "height": 149
   },
   "outputs": [
    {
     "name": "stdout",
     "output_type": "stream",
     "text": [
      "Formal: 'How is your day going?'\n",
      "Informal: 'How's your day?'\n"
     ]
    }
   ],
   "source": [
    "prompt = f\"\"\"\n",
    "Translate the following text to English in both the \\\n",
    "formal and informal style: \n",
    "'Günün nasıl geçiyor?'\n",
    "\"\"\"\n",
    "response = get_completion(prompt)\n",
    "print(response)\n"
   ]
  },
  {
   "cell_type": "code",
   "execution_count": null,
   "id": "f7de40f4",
   "metadata": {},
   "outputs": [],
   "source": [
    "example_sentences = [\n",
    " \"Hola, ¿cómo estás?\",\n",
    " \"Bonjour, comment ça va?\",\n",
    " \"こんにちは、お元気ですか？\",\n",
    " \"Hallo, wie geht es dir?\",\n",
    " \"Привет, как дела?\" \n",
    "]"
   ]
  },
  {
   "cell_type": "code",
   "execution_count": 40,
   "id": "90c7d5de",
   "metadata": {
    "height": 132
   },
   "outputs": [
    {
     "name": "stdout",
     "output_type": "stream",
     "text": [
      "```json\n",
      "[\n",
      "  {\"sentence\": \"Hola, ¿cómo estás?\", \"language\": \"Spanish\"},\n",
      "  {\"sentence\": \"Bonjour, comment ça va?\", \"language\": \"French\"},\n",
      "  {\"sentence\": \"こんにちは、お元気ですか？\", \"language\": \"Japanese\"},\n",
      "  {\"sentence\": \"Hallo, wie geht es dir?\", \"language\": \"German\"},\n",
      "  {\"sentence\": \"Привет, как дела?\", \"language\": \"Russian\"}\n",
      "]\n",
      "```\n"
     ]
    }
   ],
   "source": [
    "prompt = f\"\"\"\n",
    "Format your answer as JSON. \\\n",
    "Tell me the language of each sentence in \\\n",
    "```{sentences}```\\\n",
    "\"\"\"\n",
    "lang = get_completion(prompt)\n",
    "print(lang)"
   ]
  },
  {
   "cell_type": "markdown",
   "id": "a0d758b4",
   "metadata": {},
   "source": [
    "#### Grammar check"
   ]
  },
  {
   "cell_type": "code",
   "execution_count": 6,
   "id": "5c65d891",
   "metadata": {},
   "outputs": [],
   "source": [
    "short_story = f\"\"\"\n",
    "Me and my friend was walking down the street when we seen a strange man. \\\n",
    "He had a big beard and was wearing a hat. We was scared so we started to run away. \\\n",
    "But then he called out to us and said he just wanted to give us some candy. \\\n",
    "We was still scared so we kept running and never looked back.\n",
    "\"\"\""
   ]
  },
  {
   "cell_type": "code",
   "execution_count": 4,
   "id": "6c90d330",
   "metadata": {
    "height": 132
   },
   "outputs": [
    {
     "name": "stdout",
     "output_type": "stream",
     "text": [
      "Review: \"My friend and I were walking down the street when we saw a strange man. He had a big beard and was wearing a hat. We were scared, so we started to run away. But then he called out to us and said he just wanted to give us some candy. We were still scared, so we kept running and never looked back.\"\n"
     ]
    }
   ],
   "source": [
    "prompt = f\"\"\"\n",
    "Correct grammatical errors.\n",
    "\n",
    "Review: ```{short_story}```\n",
    "\"\"\"\n",
    "response = get_completion(prompt)\n",
    "print(response)"
   ]
  },
  {
   "cell_type": "code",
   "execution_count": 7,
   "id": "9b826711",
   "metadata": {
    "height": 115
   },
   "outputs": [
    {
     "data": {
      "text/markdown": [
       "<span style=\"color:red;font-weight:700;text-decoration:line-through;\">Me </span><span style=\"color:red;font-weight:700;\">Review: \"My friend </span>and <span style=\"color:red;font-weight:700;text-decoration:line-through;\">my friend was </span><span style=\"color:red;font-weight:700;\">I were </span>walking down the street when we <span style=\"color:red;font-weight:700;text-decoration:line-through;\">seen </span><span style=\"color:red;font-weight:700;\">saw </span>a strange man. He had a big beard and was wearing a hat. We <span style=\"color:red;font-weight:700;text-decoration:line-through;\">was scared </span><span style=\"color:red;font-weight:700;\">were scared, </span>so we started to run away. But then he called out to us and said he just wanted to give us some candy. We <span style=\"color:red;font-weight:700;text-decoration:line-through;\">was </span><span style=\"color:red;font-weight:700;\">were </span>still <span style=\"color:red;font-weight:700;text-decoration:line-through;\">scared </span><span style=\"color:red;font-weight:700;\">scared, </span>so we kept running and never looked <span style=\"color:red;font-weight:700;text-decoration:line-through;\">back.\n",
       "</span><span style=\"color:red;font-weight:700;\">back.\"</span>"
      ],
      "text/plain": [
       "<IPython.core.display.Markdown object>"
      ]
     },
     "metadata": {},
     "output_type": "display_data"
    }
   ],
   "source": [
    "from IPython.display import display, Markdown, Latex, HTML, JSON\n",
    "\n",
    "from redlines import Redlines\n",
    "\n",
    "diff = Redlines(short_story,response)\n",
    "display(Markdown(diff.output_markdown))"
   ]
  }
 ],
 "metadata": {
  "kernelspec": {
   "display_name": "Python 3 (ipykernel)",
   "language": "python",
   "name": "python3"
  },
  "language_info": {
   "codemirror_mode": {
    "name": "ipython",
    "version": 3
   },
   "file_extension": ".py",
   "mimetype": "text/x-python",
   "name": "python",
   "nbconvert_exporter": "python",
   "pygments_lexer": "ipython3",
   "version": "3.10.9"
  }
 },
 "nbformat": 4,
 "nbformat_minor": 5
}
