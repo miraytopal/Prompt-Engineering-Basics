{
 "cells": [
  {
   "cell_type": "markdown",
   "id": "34409a8f",
   "metadata": {},
   "source": [
    "## WHAT IS LLMs?\n",
    "\n",
    "Large language models are machine learning models that are trained on large amounts of text data to understand and generate human-like language. These models use deep learning techniques, such as neural networks, to learn the patterns and structures of language. The training process involves feeding the model with massive amounts of text data, such as books, articles, and web pages, to learn the statistical patterns of language.\n",
    "\n",
    "\n",
    "### What is Prompt Engineering?\n",
    "Prompt engineering is the process of designing and optimizing prompts for a large language model (LLM) to achieve specific tasks or goals. LLMs are powerful artificial intelligence models that can generate human-like text, and prompt engineering is essential to ensure that the model produces accurate and relevant responses.\n",
    "\n",
    "Prompt engineering involves several steps, including selecting the right prompts, fine-tuning the model, and testing the output.clarity is important, but clearly does not equate to short prompts in prompt engineering. The prompts can be simple or complex, depending on the task at hand.\n",
    "\n",
    "Overall, prompt engineering is a critical component of LLM development and is essential to ensure that the model produces accurate and relevant responses."
   ]
  },
  {
   "cell_type": "markdown",
   "id": "26676db7",
   "metadata": {},
   "source": [
    "### Elements of a Prompt\n",
    "\n",
    "A prompt contains any of the following elements:\n",
    "\n",
    "***Instruction*** - a specific task or instruction you want the model to perform\n",
    "\n",
    "***Context*** - external information or additional context that can steer the model to better responses\n",
    "\n",
    "***Input Data*** - the input or question that we are interested to find a response for\n",
    "\n",
    "***Output Indicator*** - the type or format of the output."
   ]
  },
  {
   "cell_type": "markdown",
   "id": "d930cecd",
   "metadata": {},
   "source": [
    "### Parameters of Prompt\n",
    "\n",
    "**Temperature parameter** is a crucial aspect of Large Language Models (LLMs) that determines the level of randomness and creativity in the generated text. It controls the degree of uncertainty in the model's predictions, allowing it to produce more diverse and varied outputs. A higher temperature value results in more unpredictable and imaginative responses, while a lower temperature value produces more conservative and predictable outputs.\n",
    "\n",
    "(Summary : The temperature parameter in Large Language Models (LLMs) controls the level of randomness and creativity in generated text, with a higher value resulting in more imaginative responses and a lower value producing more predictable outputs, and can be adjusted to enhance the user experience in chatbots.)\n",
    "\n",
    "**Top_p** is a parameter used in Large Language Models (LLMs) to control the diversity of generated text. It determines the probability threshold for selecting the next word in the generated text. The higher the Top_p value, the more diverse the generated text will be. Conversely, a lower Top_p value will result in more predictable and repetitive text.\n",
    "\n",
    "(Summary : The Top_p parameter in Large Language Models controls the diversity of generated text by determining the probability threshold for selecting the next word, with a higher Top_p value resulting in more diverse text and a lower Top_p value resulting in more predictable and repetitive text, making it an important tool for fine-tuning the output to specific needs and preferences.)\n",
    "\n",
    "Note: The general advice is to replace only one, not both."
   ]
  },
  {
   "cell_type": "markdown",
   "id": "7b505598",
   "metadata": {},
   "source": [
    "### Prompting Techniques\n"
   ]
  },
  {
   "cell_type": "markdown",
   "id": "f2fedcab",
   "metadata": {},
   "source": [
    "Zero-shot and few-shot prompt techniques are two of the most popular and effective ways to generate text using artificial intelligence. These techniques are based on the idea of training a language model on a small amount of data and then using it to generate text based on a prompt.\n",
    "\n",
    "**Zero-shot prompt techniques** involve using a pre-trained language model to generate text without any additional training. This means that the model has already been trained on a large corpus of text and can generate text in a variety of styles and formats. To use a zero-shot prompt, you simply provide the model with a prompt and it will generate text based on its understanding of the language.\n",
    "\n",
    "**Few-shot prompt techniques**, on the other hand, involve training a language model on a small amount of data before using it to generate text. This allows the model to learn specific patterns and styles of language that are relevant to the task at hand. To use a few-shot prompt, you provide the model with a small amount of training data and then use it to generate text based on a prompt.\n",
    "\n",
    "Both zero-shot and few-shot prompt techniques have their advantages and disadvantages. Zero-shot prompts are quick and easy to use, but they may not always generate text that is relevant to the task at hand. Few-shot prompts require more training data, but they can be more accurate and generate text that is more relevant to the task.\n",
    "\n",
    "Overall, both zero-shot and few-shot prompt techniques are powerful tools for generating text using artificial intelligence. By understanding the strengths and weaknesses of each technique, you can choose the one that is best suited to your needs and generate high-quality text that meets your specific requirements."
   ]
  },
  {
   "cell_type": "markdown",
   "id": "165033f3",
   "metadata": {},
   "source": [
    "## Guidelines for Prompting"
   ]
  },
  {
   "cell_type": "markdown",
   "id": "9036a1fc",
   "metadata": {},
   "source": [
    "#### Importing relevant libraries"
   ]
  },
  {
   "cell_type": "code",
   "execution_count": 2,
   "id": "dbe20e61",
   "metadata": {},
   "outputs": [],
   "source": [
    "import openai\n",
    "import os\n",
    "\n",
    "from dotenv import load_dotenv, find_dotenv\n",
    "_ = load_dotenv(find_dotenv())\n",
    "\n",
    "openai.api_key  = os.getenv('OPENAI_API_KEY')"
   ]
  },
  {
   "cell_type": "code",
   "execution_count": 3,
   "id": "eb12f3bd",
   "metadata": {},
   "outputs": [],
   "source": [
    "def get_completion(prompt, model=\"gpt-3.5-turbo\"): \n",
    "    messages = [{\"role\": \"user\", \"content\": prompt}]\n",
    "    response = openai.ChatCompletion.create(\n",
    "        model=model,\n",
    "        messages=messages,\n",
    "        temperature=0,\n",
    "    )\n",
    "    return response.choices[0].message[\"content\"]"
   ]
  },
  {
   "cell_type": "markdown",
   "id": "a919989f",
   "metadata": {},
   "source": [
    "### 1. Basic Prompts"
   ]
  },
  {
   "cell_type": "markdown",
   "id": "d50e5a41",
   "metadata": {},
   "source": [
    "You can get very good results using ordinary prompts, but when you need more specific results or want to make sure our prompt serves your purposes, you should improve your prompt quality.\n",
    "\n",
    "You can write effective prompts for simple tasks using commands such as Summarize, Write, Classify, Translate, etc. \n",
    "\n",
    "Let's see this with examples:"
   ]
  },
  {
   "cell_type": "markdown",
   "id": "a9b531fa",
   "metadata": {},
   "source": [
    "##### Complete your sentences "
   ]
  },
  {
   "cell_type": "code",
   "execution_count": 5,
   "id": "dd2c8a3a",
   "metadata": {
    "height": 81
   },
   "outputs": [
    {
     "name": "stdout",
     "output_type": "stream",
     "text": [
      "my best to accomplish my goals and make progress towards my dreams.\n"
     ]
    }
   ],
   "source": [
    "prompt = f\"\"\" Complete this sentence:\n",
    "```Today I will do```\"\"\"\n",
    "response = get_completion(prompt)\n",
    "print(response)"
   ]
  },
  {
   "cell_type": "code",
   "execution_count": 11,
   "id": "c9b417ed",
   "metadata": {
    "height": 268
   },
   "outputs": [
    {
     "name": "stdout",
     "output_type": "stream",
     "text": [
      "ChatGPT is an AI-powered chatbot that was developed through data gathering, algorithm development, and extensive user testing to create an intelligent, responsive, and user-friendly chatbot.\n"
     ]
    }
   ],
   "source": [
    "text = f\"\"\"\n",
    "ChatGPT is an AI-powered chatbot developed to provide an interactive and engaging experience. \\\n",
    "The development process involved gathering data from various sources to train the chatbot to understand and \\\n",
    "respond to user queries. Algorithms were developed to enable ChatGPT to analyze user queries and \\\n",
    "provide relevant responses. The team conducted extensive user testing and gathered feedback to ensure \\\n",
    "the chatbot met user needs and expectations. The team also focused on designing an intuitive interface \\\n",
    "for users to interact with the chatbot. Overall, the development process was challenging but rewarding, \\\n",
    "resulting in an intelligent, responsive, and user-friendly chatbot.\n",
    "\"\"\"\n",
    "prompt = f\"\"\"\n",
    "Summarize the text into a sentence.\n",
    "<{text}>\n",
    "\"\"\"\n",
    "response = get_completion(prompt)\n",
    "print(response)"
   ]
  },
  {
   "cell_type": "markdown",
   "id": "632ce3f6",
   "metadata": {},
   "source": [
    "##### Ask the model to produce an output suitable for the desired conditions"
   ]
  },
  {
   "cell_type": "code",
   "execution_count": 12,
   "id": "e920bf4f",
   "metadata": {
    "height": 370
   },
   "outputs": [
    {
     "name": "stdout",
     "output_type": "stream",
     "text": [
      "Steps for writing a book:\n",
      "1 - Brainstorm ideas and create an outline for your book.\n",
      "2 - Set a writing schedule and aim to write a certain number of words or pages each day.\n",
      "3 - Focus on developing your characters, plot, and setting as you write.\n",
      "4 - Revise and edit your work multiple times.\n",
      "5 - Seek feedback from beta readers or a writing group.\n",
      "6 - Consider hiring a professional editor to help polish your manuscript.\n",
      "7 - Research publishing options and decide whether to pursue traditional publishing or self-publishing.\n"
     ]
    }
   ],
   "source": [
    "text = f\"\"\"\n",
    "To write a book, start by brainstorming ideas and creating an outline. \n",
    "Then, set a writing schedule and stick to it, aiming to write a certain number of words or pages each day. \n",
    "As you write, focus on developing your characters, plot, and setting, and be sure to revise and edit your work multiple times. \n",
    "Seek feedback from beta readers or a writing group, and consider hiring a professional editor to help polish your manuscript. \n",
    "Finally, research publishing options and decide whether to pursue traditional publishing or self-publishing.\n",
    "\"\"\"\n",
    "prompt = f\"\"\"\n",
    "Text delimited by triple quotes. \n",
    "If it contains a sequence of instructions, \\\n",
    "re-write those instructions in the following format:\n",
    "1 - ...\n",
    "2 - …\n",
    "…\n",
    "N - …\n",
    "\n",
    "<{text}>\n",
    "\"\"\"\n",
    "response = get_completion(prompt)\n",
    "print(f\"Steps for writing a book:\\n{response}\")"
   ]
  },
  {
   "cell_type": "markdown",
   "id": "608475f2",
   "metadata": {},
   "source": [
    "##### Ask for a structured output\n",
    "\n",
    "Html, JSON etc."
   ]
  },
  {
   "cell_type": "code",
   "execution_count": 83,
   "id": "c66f1797",
   "metadata": {
    "height": 370,
    "scrolled": true
   },
   "outputs": [
    {
     "name": "stdout",
     "output_type": "stream",
     "text": [
      "Output file (example.html):\n",
      "\n",
      "<html><body><p>\n",
      "Hello, world!\n",
      "This is a sample text file.\n",
      "</p></body></html>\n"
     ]
    }
   ],
   "source": [
    "text = f\"\"\"\n",
    "Hello, world!\n",
    "This is a sample text file.\n",
    "\"\"\"\n",
    "\n",
    "prompt = f\"\"\"\n",
    "Input file (example.txt):\n",
    "\n",
    "Python code to convert the text file to HTML:\n",
    "```python\n",
    "with open('example.txt', 'r') as f:\n",
    "    text = f.read()\n",
    "\n",
    "html = f'<html><body><p>{text}</p></body></html>'\n",
    "\n",
    "with open('example.html', 'w') as f:\n",
    "    f.write(html)\n",
    "```\n",
    "\"\"\"\n",
    "response = get_completion(prompt)\n",
    "print(response)"
   ]
  },
  {
   "cell_type": "code",
   "execution_count": 5,
   "id": "ac567d6f",
   "metadata": {
    "height": 217
   },
   "outputs": [
    {
     "name": "stdout",
     "output_type": "stream",
     "text": [
      "<p>Hello, world!</p>\n",
      "<p>This is a sample text file.</p>\n"
     ]
    }
   ],
   "source": [
    "text = f\"\"\"\n",
    "Hello, world!\n",
    "This is a sample text file.\n",
    "\"\"\"\n",
    "\n",
    "prompt = f\"\"\"\n",
    "Your task is to convert the text to HTML\\\n",
    "<{text}>\n",
    "```\n",
    "\"\"\"\n",
    "response = get_completion(prompt)\n",
    "print(response)"
   ]
  },
  {
   "cell_type": "code",
   "execution_count": 6,
   "id": "c1ee1415",
   "metadata": {
    "height": 149
   },
   "outputs": [
    {
     "name": "stdout",
     "output_type": "stream",
     "text": [
      "{\n",
      "  \"movie_title\": \"The Lost City of Zorg\",\n",
      "  \"subject\": \"Exploration of an alien planet\",\n",
      "  \"directors\": [\"J.J. Abrams\", \"Ridley Scott\"],\n",
      "  \"genre\": \"Sci-Fi\"\n",
      "}\n",
      "\n",
      "{\n",
      "  \"movie_title\": \"The Last Heist\",\n",
      "  \"subject\": \"A group of bank robbers attempt one final heist\",\n",
      "  \"directors\": [\"Quentin Tarantino\", \"Martin Scorsese\"],\n",
      "  \"genre\": \"Crime\"\n",
      "}\n",
      "\n",
      "{\n",
      "  \"movie_title\": \"The Forgotten Kingdom\",\n",
      "  \"subject\": \"A young prince must reclaim his throne from an evil sorcerer\",\n",
      "  \"directors\": [\"Peter Jackson\", \"Guillermo del Toro\"],\n",
      "  \"genre\": \"Fantasy\"\n",
      "}\n"
     ]
    }
   ],
   "source": [
    "prompt = f\"\"\"\n",
    "Generate three made-up movie titles\\\n",
    "subjects, directors and genre.\n",
    "Provide them in JSON format with the keys:\n",
    "movie_title, subject, directors, genre.\n",
    "\"\"\"\n",
    "response = get_completion(prompt)\n",
    "print(response)"
   ]
  }
 ],
 "metadata": {
  "kernelspec": {
   "display_name": "Python 3 (ipykernel)",
   "language": "python",
   "name": "python3"
  },
  "language_info": {
   "codemirror_mode": {
    "name": "ipython",
    "version": 3
   },
   "file_extension": ".py",
   "mimetype": "text/x-python",
   "name": "python",
   "nbconvert_exporter": "python",
   "pygments_lexer": "ipython3",
   "version": "3.10.9"
  }
 },
 "nbformat": 4,
 "nbformat_minor": 5
}
